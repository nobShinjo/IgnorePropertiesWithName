{
 "cells": [
  {
   "cell_type": "code",
   "execution_count": 1,
   "metadata": {
    "dotnet_interactive": {
     "language": "csharp"
    },
    "polyglot_notebook": {
     "kernelName": "csharp"
    },
    "vscode": {
     "languageId": "polyglot-notebook"
    }
   },
   "outputs": [],
   "source": [
    "using System;\n",
    "using System.Linq;\n",
    "using System.Text.Json;\n",
    "using System.Collections.Generic;\n",
    "using System.Text.Json.Serialization;\n",
    "using System.Text.Json.Serialization.Metadata;"
   ]
  },
  {
   "cell_type": "code",
   "execution_count": 2,
   "metadata": {
    "dotnet_interactive": {
     "language": "csharp"
    },
    "polyglot_notebook": {
     "kernelName": "csharp"
    },
    "vscode": {
     "languageId": "polyglot-notebook"
    }
   },
   "outputs": [],
   "source": [
    "class ExampleClass\n",
    "{\n",
    "    public string Name { get; set; } = \"\";\n",
    "    public int Age {get;set;} = 10;\n",
    "    public SecretHolder? Secret { get; set; }\n",
    "    public bool HasError { get; set; } = false;\n",
    "}\n",
    "\n",
    "class SecretHolder\n",
    "{\n",
    "    public string Value { get; set; } = \"\";\n",
    "}"
   ]
  },
  {
   "cell_type": "code",
   "execution_count": 5,
   "metadata": {
    "dotnet_interactive": {
     "language": "csharp"
    },
    "polyglot_notebook": {
     "kernelName": "csharp"
    },
    "vscode": {
     "languageId": "polyglot-notebook"
    }
   },
   "outputs": [],
   "source": [
    "class IgnorePropertiesWithName\n",
    "{\n",
    "    private readonly string[] _ignoredNames;\n",
    "\n",
    "    public IgnorePropertiesWithName(params string[] ignoredNames)\n",
    "        => _ignoredNames = ignoredNames;\n",
    "\n",
    "    public void ModifyTypeInfo(JsonTypeInfo ti)\n",
    "    {\n",
    "        if (ti.Kind != JsonTypeInfoKind.Object)\n",
    "            return;\n",
    "            \n",
    "        foreach(var property in ti.Properties.ToList())\n",
    "        {\n",
    "            if(_ignoredNames.Contains(property.Name))\n",
    "            {\n",
    "                ti.Properties.Remove(property);\n",
    "            }\n",
    "        }\n",
    "    }\n",
    "}\n",
    "\n",
    "public class IgnoreTypeExample\n",
    "{\n",
    "    public static void RunIt()\n",
    "    {\n",
    "        var modifier = new IgnorePropertiesWithName(\"HasError\");\n",
    "\n",
    "        JsonSerializerOptions options = new()\n",
    "        {\n",
    "            TypeInfoResolver = new DefaultJsonTypeInfoResolver\n",
    "            {\n",
    "                Modifiers = { modifier.ModifyTypeInfo }\n",
    "            }\n",
    "        };\n",
    "\n",
    "        ExampleClass obj = new()\n",
    "        {\n",
    "            Name = \"Password\",\n",
    "            Secret = new SecretHolder { Value = \"MySecret\" },\n",
    "            HasError = true\n",
    "        };\n",
    "\n",
    "        string output = JsonSerializer.Serialize(obj, options);\n",
    "        Console.WriteLine(output);\n",
    "        // {\"Name\":\"Password\",\"Secret\":{\"Value\":\"MySecret\"}}\n",
    "    }\n",
    "}\n",
    "\n"
   ]
  },
  {
   "cell_type": "code",
   "execution_count": 11,
   "metadata": {
    "dotnet_interactive": {
     "language": "csharp"
    },
    "polyglot_notebook": {
     "kernelName": "csharp"
    },
    "vscode": {
     "languageId": "polyglot-notebook"
    }
   },
   "outputs": [
    {
     "name": "stdout",
     "output_type": "stream",
     "text": [
      "{\"Name\":\"Password\",\"Age\":10,\"Secret\":{\"Value\":\"MySecret\"}}\r\n"
     ]
    }
   ],
   "source": [
    "IgnoreTypeExample.RunIt();"
   ]
  }
 ],
 "metadata": {
  "language_info": {
   "name": "python"
  },
  "orig_nbformat": 4
 },
 "nbformat": 4,
 "nbformat_minor": 2
}
